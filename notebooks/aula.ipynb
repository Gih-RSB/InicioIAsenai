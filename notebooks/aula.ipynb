{
 "cells": [
  {
   "cell_type": "code",
   "execution_count": 2,
   "metadata": {},
   "outputs": [
    {
     "name": "stdout",
     "output_type": "stream",
     "text": [
      "alo mundo\n"
     ]
    }
   ],
   "source": [
    "print ('alo mundo')"
   ]
  },
  {
   "cell_type": "code",
   "execution_count": 6,
   "metadata": {},
   "outputs": [
    {
     "name": "stdout",
     "output_type": "stream",
     "text": [
      "Collecting requests\n",
      "  Using cached requests-2.32.3-py3-none-any.whl.metadata (4.6 kB)\n",
      "Collecting charset-normalizer<4,>=2 (from requests)\n",
      "  Using cached charset_normalizer-3.3.2-cp312-cp312-win_amd64.whl.metadata (34 kB)\n",
      "Collecting idna<4,>=2.5 (from requests)\n",
      "  Using cached idna-3.8-py3-none-any.whl.metadata (9.9 kB)\n",
      "Collecting urllib3<3,>=1.21.1 (from requests)\n",
      "  Using cached urllib3-2.2.2-py3-none-any.whl.metadata (6.4 kB)\n",
      "Collecting certifi>=2017.4.17 (from requests)\n",
      "  Downloading certifi-2024.8.30-py3-none-any.whl.metadata (2.2 kB)\n",
      "Using cached requests-2.32.3-py3-none-any.whl (64 kB)\n",
      "Downloading certifi-2024.8.30-py3-none-any.whl (167 kB)\n",
      "Using cached charset_normalizer-3.3.2-cp312-cp312-win_amd64.whl (100 kB)\n",
      "Using cached idna-3.8-py3-none-any.whl (66 kB)\n",
      "Using cached urllib3-2.2.2-py3-none-any.whl (121 kB)\n",
      "Installing collected packages: urllib3, idna, charset-normalizer, certifi, requests\n",
      "Successfully installed certifi-2024.8.30 charset-normalizer-3.3.2 idna-3.8 requests-2.32.3 urllib3-2.2.2\n"
     ]
    }
   ],
   "source": [
    "! pip install requests"
   ]
  },
  {
   "cell_type": "code",
   "execution_count": 10,
   "metadata": {},
   "outputs": [
    {
     "name": "stdout",
     "output_type": "stream",
     "text": [
      "CEP:  72318-504\n",
      "Logradouro:  Quadra QN 402 Conjunto D Comércio\n",
      "Complemento:  \n",
      "Bairro:  Samambaia Norte (Samambaia)\n",
      "Cidade:  Brasília\n",
      "Estado:  DF\n"
     ]
    }
   ],
   "source": [
    "import requests\n",
    "import json\n",
    "\n",
    "cep = input(\"Digite o CEP desejado: \")\n",
    "url = f\"https://viacep.com.br/ws/{cep}/json/\"\n",
    "response = requests.get(url)\n",
    "\n",
    "if response.status_code == 200:\n",
    "    data = json.loads(response.content)\n",
    "    print(\"CEP: \", data[\"cep\"])\n",
    "    print(\"Logradouro: \", data[\"logradouro\"])\n",
    "    print(\"Complemento: \", data[\"complemento\"])\n",
    "    print(\"Bairro: \", data[\"bairro\"])\n",
    "    print(\"Cidade: \", data[\"localidade\"])\n",
    "    print(\"Estado: \", data[\"uf\"])\n",
    "else:\n",
    "    print(\"Não foi possível obter informações para o CEP informado.\")\n"
   ]
  },
  {
   "cell_type": "code",
   "execution_count": 11,
   "metadata": {},
   "outputs": [
    {
     "name": "stdout",
     "output_type": "stream",
     "text": [
      "CEP: 72318-504\n",
      "Logradouro: Quadra QN 402 Conjunto D Comércio\n",
      "Complemento: \n",
      "Bairro: Samambaia Norte (Samambaia)\n",
      "Cidade: Brasília\n",
      "Estado: DF\n"
     ]
    }
   ],
   "source": [
    "import requests  # Biblioteca para fazer requisições HTTP\n",
    "import json     # Biblioteca para manipular JSON\n",
    "\n",
    "# Solicita o CEP ao usuário e faz a requisição à API\n",
    "cep = input(\"Digite o CEP desejado: \")\n",
    "url = f\"https://viacep.com.br/ws/{cep}/json/\"\n",
    "response = requests.get(url)\n",
    "\n",
    "# Verifica se a requisição foi bem-sucedida e imprime os dados\n",
    "if response.ok:  # Verifica se o status é 200 ou qualquer outro status de sucesso\n",
    "    data = response.json()  # Converte a resposta JSON diretamente para um dicionário\n",
    "    print(f\"CEP: {data.get('cep', 'Não disponível')}\")\n",
    "    print(f\"Logradouro: {data.get('logradouro', 'Não disponível')}\")\n",
    "    print(f\"Complemento: {data.get('complemento', 'Não disponível')}\")\n",
    "    print(f\"Bairro: {data.get('bairro', 'Não disponível')}\")\n",
    "    print(f\"Cidade: {data.get('localidade', 'Não disponível')}\")\n",
    "    print(f\"Estado: {data.get('uf', 'Não disponível')}\")\n",
    "else:\n",
    "    print(\"Não foi possível obter informações para o CEP informado.\")\n",
    "\n"
   ]
  }
 ],
 "metadata": {
  "kernelspec": {
   "display_name": ".venv",
   "language": "python",
   "name": "python3"
  },
  "language_info": {
   "codemirror_mode": {
    "name": "ipython",
    "version": 3
   },
   "file_extension": ".py",
   "mimetype": "text/x-python",
   "name": "python",
   "nbconvert_exporter": "python",
   "pygments_lexer": "ipython3",
   "version": "3.12.5"
  }
 },
 "nbformat": 4,
 "nbformat_minor": 2
}
